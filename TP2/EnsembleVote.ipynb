{
 "cells": [
  {
   "cell_type": "markdown",
   "metadata": {},
   "source": [
    "# Ensemble Vote Classifier\n",
    "\n",
    "Agora que desenvolvemos alguns modelos relativamente eficazes vamos tentar combinar as suas previsões de modo a obtermos um modelo ainda mais eficaz!"
   ]
  },
  {
   "cell_type": "code",
   "execution_count": 196,
   "metadata": {
    "scrolled": true
   },
   "outputs": [
    {
     "name": "stdout",
     "output_type": "stream",
     "text": [
      "0.8606533333333344\n"
     ]
    }
   ],
   "source": [
    "from sklearn.datasets import load_iris\n",
    "from mlxtend.classifier import EnsembleVoteClassifier\n",
    "from mlxtend.feature_selection import ColumnSelector\n",
    "from sklearn.pipeline import make_pipeline\n",
    "import pandas as pd\n",
    "import matplotlib.pyplot as plt\n",
    "import seaborn as sns\n",
    "from sklearn.model_selection import StratifiedShuffleSplit\n",
    "from sklearn.metrics import accuracy_score, log_loss, confusion_matrix, classification_report\n",
    "from sklearn.tree import DecisionTreeClassifier\n",
    "from sklearn.ensemble import RandomForestClassifier, AdaBoostClassifier, GradientBoostingClassifier\n",
    "from sklearn.naive_bayes import GaussianNB\n",
    "from sklearn.discriminant_analysis import LinearDiscriminantAnalysis\n",
    "from sklearn.linear_model import LogisticRegression\n",
    "from sklearn import preprocessing\n",
    "from sklearn.model_selection import train_test_split\n",
    "from copy import deepcopy\n",
    "from random import randint\n",
    "\n",
    "train = pd.read_csv('prep_train.csv')\n",
    "\n",
    "\n",
    "avg = 0\n",
    "iss = []\n",
    "while len(iss) < 500:\n",
    "    r = randint(0,1000)\n",
    "    if r not in iss:        \n",
    "        X_train, X_test, y_train, y_test = train_test_split(train.drop(['Absent'],axis=1), \n",
    "                                                            train['Absent'], test_size=0.30, \n",
    "                                                            random_state=r)\n",
    "\n",
    "        pipe1 = make_pipeline(ColumnSelector(cols=['Reason for absence',  'Age', 'Work load Average/day ']), GaussianNB(priors=None, var_smoothing=1e-09))\n",
    "        pipe2 = make_pipeline(ColumnSelector(cols=['Reason for absence', 'Month of absence', 'Seasons', 'Distance from Residence to Work', 'Service time', 'Age', 'Work load Average/day ', 'Disciplinary failure', 'Body mass index']), RandomForestClassifier(bootstrap=False, criterion='gini', max_depth=20, max_features=None, min_impurity_decrease=0.001, min_samples_split=16, n_estimators=20, oob_score=False))\n",
    "        pipe3 = make_pipeline(ColumnSelector(cols=['Reason for absence', 'Disciplinary failure']), LogisticRegression(C=0.1, dual=False, fit_intercept=True, intercept_scaling=0.1, l1_ratio=0.1, max_iter=10, multi_class= 'ovr', penalty='l2', solver='liblinear', tol=0.1))\n",
    "        pipe4 = make_pipeline(ColumnSelector(cols=['Reason for absence', 'Month of absence', 'Seasons', 'Distance from Residence to Work', 'Service time', 'Age', 'Work load Average/day ', 'Disciplinary failure', 'Body mass index']), AdaBoostClassifier(DecisionTreeClassifier(max_depth=1), learning_rate=0.5, n_estimators=100))\n",
    "        pipe5 = make_pipeline(ColumnSelector(cols=['Reason for absence']), GradientBoostingClassifier(learning_rate=0.01, loss='deviance', max_depth=3, max_features='auto', min_impurity_decrease=0.1, min_samples_split=2, n_estimators=100))\n",
    "        pipe6 = make_pipeline(ColumnSelector(cols=['Disciplinary failure']), LinearDiscriminantAnalysis(solver='lsqr', shrinkage=None))\n",
    " \n",
    "\n",
    "        eclf = EnsembleVoteClassifier(clfs=[pipe2, pipe6,pipe6, pipe1])\n",
    "        \n",
    "        \n",
    "        eclf.fit(X_train,y_train)\n",
    "        predictions = eclf.predict(X_test)\n",
    "        avg = (avg*len(iss) + accuracy_score(y_test,predictions))/float(len(iss) + 1)\n",
    "        iss.append(r)\n",
    "print(avg)\n"
   ]
  },
  {
   "cell_type": "code",
   "execution_count": 200,
   "metadata": {},
   "outputs": [
    {
     "name": "stdout",
     "output_type": "stream",
     "text": [
      "[[ 11  21]\n",
      " [  0 118]]\n",
      "0.86\n"
     ]
    }
   ],
   "source": [
    "X_train, X_test, y_train, y_test = train_test_split(train.drop(['Absent'],axis=1), \n",
    "                                                    train['Absent'], test_size=0.3, \n",
    "                                                    random_state=randint(0,1000))\n",
    "\n",
    "pipe1 = make_pipeline(ColumnSelector(cols=['Reason for absence',  'Age', 'Work load Average/day ']), GaussianNB(priors=None, var_smoothing=1e-09))\n",
    "pipe2 = make_pipeline(ColumnSelector(cols=['Reason for absence', 'Month of absence', 'Seasons', 'Distance from Residence to Work', 'Service time', 'Age', 'Work load Average/day ', 'Disciplinary failure', 'Body mass index']), RandomForestClassifier(bootstrap=False, criterion='gini', max_depth=20, max_features=None, min_impurity_decrease=0.001, min_samples_split=16, n_estimators=20, oob_score=False))\n",
    "pipe3 = make_pipeline(ColumnSelector(cols=['Reason for absence', 'Disciplinary failure']), LogisticRegression(C=0.1, dual=False, fit_intercept=True, intercept_scaling=0.1, l1_ratio=0.1, max_iter=10, multi_class= 'ovr', penalty='l2', solver='liblinear', tol=0.1))\n",
    "pipe4 = make_pipeline(ColumnSelector(cols=['Reason for absence', 'Month of absence', 'Seasons', 'Distance from Residence to Work', 'Service time', 'Age', 'Work load Average/day ', 'Disciplinary failure', 'Body mass index']), AdaBoostClassifier(DecisionTreeClassifier(max_depth=1), learning_rate=0.5, n_estimators=100))\n",
    "pipe5 = make_pipeline(ColumnSelector(cols=['Reason for absence']), GradientBoostingClassifier(learning_rate=0.01, loss='deviance', max_depth=3, max_features='auto', min_impurity_decrease=0.1, min_samples_split=2, n_estimators=100))\n",
    "pipe6 = make_pipeline(ColumnSelector(cols=['Disciplinary failure']), LinearDiscriminantAnalysis(solver='lsqr', shrinkage=None))\n",
    "\n",
    "\n",
    "eclf = EnsembleVoteClassifier(clfs=[pipe2, pipe6,pipe6, pipe1])\n",
    "\n",
    "\n",
    "eclf.fit(X_train,y_train)\n",
    "predictions = eclf.predict(X_test)\n",
    "print(confusion_matrix(y_test,predictions))\n",
    "print(accuracy_score(y_test,predictions))"
   ]
  },
  {
   "cell_type": "code",
   "execution_count": null,
   "metadata": {},
   "outputs": [],
   "source": []
  }
 ],
 "metadata": {
  "kernelspec": {
   "display_name": "Python 3",
   "language": "python",
   "name": "python3"
  },
  "language_info": {
   "codemirror_mode": {
    "name": "ipython",
    "version": 3
   },
   "file_extension": ".py",
   "mimetype": "text/x-python",
   "name": "python",
   "nbconvert_exporter": "python",
   "pygments_lexer": "ipython3",
   "version": "3.7.4"
  }
 },
 "nbformat": 4,
 "nbformat_minor": 2
}
