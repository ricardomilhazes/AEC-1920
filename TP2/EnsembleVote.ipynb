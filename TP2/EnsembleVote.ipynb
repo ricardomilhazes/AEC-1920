{
 "cells": [
  {
   "cell_type": "markdown",
   "metadata": {},
   "source": [
    "# Ensemble Vote Classifier\n",
    "\n",
    "Agora que desenvolvemos alguns modelos relativamente eficazes vamos tentar combinar as suas previsões de modo a obtermos um modelo ainda mais eficaz!"
   ]
  },
  {
   "cell_type": "code",
   "execution_count": 50,
   "metadata": {
    "scrolled": true
   },
   "outputs": [
    {
     "name": "stdout",
     "output_type": "stream",
     "text": [
      "              precision    recall  f1-score   support\n",
      "\n",
      "         0.0       0.84      0.62      0.71        26\n",
      "         1.0       0.92      0.98      0.95       124\n",
      "\n",
      "    accuracy                           0.91       150\n",
      "   macro avg       0.88      0.80      0.83       150\n",
      "weighted avg       0.91      0.91      0.91       150\n",
      "\n",
      "[[ 16  10]\n",
      " [  3 121]]\n",
      "0.9133333333333333\n"
     ]
    }
   ],
   "source": [
    "from sklearn.datasets import load_iris\n",
    "from mlxtend.classifier import EnsembleVoteClassifier\n",
    "from mlxtend.feature_selection import ColumnSelector\n",
    "from sklearn.pipeline import make_pipeline\n",
    "import pandas as pd\n",
    "import matplotlib.pyplot as plt\n",
    "import seaborn as sns\n",
    "from sklearn.model_selection import StratifiedShuffleSplit\n",
    "from sklearn.metrics import accuracy_score, log_loss, confusion_matrix, classification_report\n",
    "from sklearn.tree import DecisionTreeClassifier\n",
    "from sklearn.ensemble import RandomForestClassifier, AdaBoostClassifier, GradientBoostingClassifier\n",
    "from sklearn.naive_bayes import GaussianNB\n",
    "from sklearn.discriminant_analysis import LinearDiscriminantAnalysis\n",
    "from sklearn.linear_model import LogisticRegression\n",
    "from sklearn import preprocessing\n",
    "from sklearn.model_selection import train_test_split\n",
    "from copy import deepcopy\n",
    "\n",
    "train = pd.read_csv('prep_train.csv')\n",
    "train.head(10)\n",
    "\n",
    "pipe1 = make_pipeline(ColumnSelector(cols=['Reason for absence', 'Month of absence', 'Day of the week', 'Seasons', 'Distance from Residence to Work', 'Work load Average/day ', 'Education', 'Weight']), GaussianNB(priors=None, var_smoothing=1e-09))\n",
    "pipe2 = make_pipeline(ColumnSelector(cols=['Reason for absence', 'Month of absence', 'Day of the week', 'Seasons', 'Transportation expense', 'Distance from Residence to Work', 'Service time', 'Age', 'Work load Average/day ', 'Hit target', 'Disciplinary failure', 'Education', 'Son', 'Weight', 'Height', 'Body mass index']), RandomForestClassifier(bootstrap=True, criterion='gini', max_depth=10, max_features=None, min_impurity_decrease=0, min_samples_split=8, n_estimators=100, oob_score=False))\n",
    "pipe3 = make_pipeline(ColumnSelector(cols=['Reason for absence', 'Age', 'Work load Average/day ', 'Disciplinary failure', 'Son']), LogisticRegression(C=0.1, fit_intercept=True, intercept_scaling=0.1, l1_ratio=0.1, max_iter=10, multi_class= 'ovr', penalty='none', solver='newton-cg', tol=10))\n",
    "pipe4 = make_pipeline(ColumnSelector(cols=['Reason for absence', 'Month of absence', 'Day of the week', 'Seasons', 'Transportation expense', 'Distance from Residence to Work', 'Service time', 'Age', 'Work load Average/day ', 'Hit target', 'Disciplinary failure', 'Education', 'Son', 'Weight', 'Height', 'Body mass index']), AdaBoostClassifier(learning_rate=1, n_estimators=50))\n",
    "pipe5 = make_pipeline(ColumnSelector(cols=['Reason for absence', 'Month of absence', 'Day of the week', 'Seasons', 'Transportation expense', 'Distance from Residence to Work', 'Service time', 'Age', 'Work load Average/day ', 'Hit target', 'Disciplinary failure', 'Education', 'Son', 'Weight', 'Height', 'Body mass index']), GradientBoostingClassifier(learning_rate=0.5, loss='exponential', max_depth=3, max_features='log2', min_impurity_decrease=0.001, min_samples_split=2, n_estimators=20))\n",
    "pipe6 = make_pipeline(ColumnSelector(cols=['Reason for absence', 'Month of absence', 'Transportation expense', 'Distance from Residence to Work', 'Service time', 'Age', 'Work load Average/day ', 'Hit target', 'Disciplinary failure', 'Son', 'Weight', 'Height', 'Body mass index']), LinearDiscriminantAnalysis(solver='svd', store_covariance=True, tol=0.0001))\n",
    "\n",
    "\n",
    "eclf = EnsembleVoteClassifier(clfs=[pipe1, pipe2, pipe6])\n",
    "\n",
    "X_train, X_test, y_train, y_test = train_test_split(train.drop(['Absent'],axis=1), \n",
    "                                                    train['Absent'], test_size=0.30, \n",
    "                                                    random_state=101)\n",
    "eclf.fit(X_train,y_train)\n",
    "\n",
    "predictions = eclf.predict(X_test)\n",
    "print(classification_report(y_test,predictions))\n",
    "print(confusion_matrix(y_test,predictions))\n",
    "print(accuracy_score(y_test,predictions))\n",
    "\n"
   ]
  },
  {
   "cell_type": "code",
   "execution_count": null,
   "metadata": {},
   "outputs": [],
   "source": []
  }
 ],
 "metadata": {
  "kernelspec": {
   "display_name": "Python 3",
   "language": "python",
   "name": "python3"
  },
  "language_info": {
   "codemirror_mode": {
    "name": "ipython",
    "version": 3
   },
   "file_extension": ".py",
   "mimetype": "text/x-python",
   "name": "python",
   "nbconvert_exporter": "python",
   "pygments_lexer": "ipython3",
   "version": "3.7.4"
  }
 },
 "nbformat": 4,
 "nbformat_minor": 2
}
